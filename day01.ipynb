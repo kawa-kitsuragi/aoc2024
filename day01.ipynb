{
 "cells": [
  {
   "cell_type": "code",
   "execution_count": 1,
   "id": "f4304d21-747e-43cf-8d9f-9b957904262b",
   "metadata": {},
   "outputs": [
    {
     "name": "stdout",
     "output_type": "stream",
     "text": [
      "Loaded successfully\n"
     ]
    }
   ],
   "source": [
    "# libraries\n",
    "import pandas as pd\n",
    "import regex as re\n",
    "import numpy as np\n",
    "print('Loaded successfully')"
   ]
  },
  {
   "cell_type": "code",
   "execution_count": 13,
   "id": "ab2ea89e-3b7b-46e1-8749-c5ca3aac9810",
   "metadata": {},
   "outputs": [
    {
     "data": {
      "text/html": [
       "<div>\n",
       "<style scoped>\n",
       "    .dataframe tbody tr th:only-of-type {\n",
       "        vertical-align: middle;\n",
       "    }\n",
       "\n",
       "    .dataframe tbody tr th {\n",
       "        vertical-align: top;\n",
       "    }\n",
       "\n",
       "    .dataframe thead th {\n",
       "        text-align: right;\n",
       "    }\n",
       "</style>\n",
       "<table border=\"1\" class=\"dataframe\">\n",
       "  <thead>\n",
       "    <tr style=\"text-align: right;\">\n",
       "      <th></th>\n",
       "      <th>left_list</th>\n",
       "      <th>right_list</th>\n",
       "    </tr>\n",
       "  </thead>\n",
       "  <tbody>\n",
       "    <tr>\n",
       "      <th>0</th>\n",
       "      <td>64256</td>\n",
       "      <td>78813</td>\n",
       "    </tr>\n",
       "    <tr>\n",
       "      <th>1</th>\n",
       "      <td>46941</td>\n",
       "      <td>56838</td>\n",
       "    </tr>\n",
       "    <tr>\n",
       "      <th>2</th>\n",
       "      <td>47111</td>\n",
       "      <td>50531</td>\n",
       "    </tr>\n",
       "    <tr>\n",
       "      <th>3</th>\n",
       "      <td>48819</td>\n",
       "      <td>41511</td>\n",
       "    </tr>\n",
       "    <tr>\n",
       "      <th>4</th>\n",
       "      <td>54871</td>\n",
       "      <td>96958</td>\n",
       "    </tr>\n",
       "  </tbody>\n",
       "</table>\n",
       "</div>"
      ],
      "text/plain": [
       "   left_list  right_list\n",
       "0      64256       78813\n",
       "1      46941       56838\n",
       "2      47111       50531\n",
       "3      48819       41511\n",
       "4      54871       96958"
      ]
     },
     "execution_count": 13,
     "metadata": {},
     "output_type": "execute_result"
    }
   ],
   "source": [
    "# load data into dataframe\n",
    "columns = ['left_list', 'right_list']\n",
    "df = pd.read_csv('day1-input.txt',index_col=False,header=None,sep=' ',usecols=[0,3],names=columns)\n",
    "# this is a really messy way to deal with something that feels like it should be simple tbh\n",
    "\n",
    "df.head()"
   ]
  },
  {
   "cell_type": "code",
   "execution_count": 38,
   "id": "ea0da330-7e1c-4641-9801-cac267c63aab",
   "metadata": {},
   "outputs": [],
   "source": [
    "sort_left = df.left_list.sort_values(ignore_index=True)\n",
    "# ignore_index is needed so that absolute actually pairs by the sorted values, not the original indexing"
   ]
  },
  {
   "cell_type": "code",
   "execution_count": 39,
   "id": "325f8f84-2110-4fe1-a034-02309a3e3b3b",
   "metadata": {},
   "outputs": [],
   "source": [
    "sort_right = df.right_list.sort_values(ignore_index=True)"
   ]
  },
  {
   "cell_type": "code",
   "execution_count": 42,
   "id": "811601c4-4a4c-4139-addb-70fcc49e588a",
   "metadata": {},
   "outputs": [
    {
     "data": {
      "text/plain": [
       "2166959"
      ]
     },
     "execution_count": 42,
     "metadata": {},
     "output_type": "execute_result"
    }
   ],
   "source": [
    "# answer to Part 1\n",
    "np.absolute(sort_left - sort_right).sum()"
   ]
  },
  {
   "cell_type": "code",
   "execution_count": 43,
   "id": "9e19fb0f-36fa-4023-aa95-77b9da91b0cc",
   "metadata": {},
   "outputs": [
    {
     "data": {
      "text/plain": [
       "0    10030\n",
       "1    10065\n",
       "2    10146\n",
       "3    10187\n",
       "4    10193\n",
       "Name: left_list, dtype: int64"
      ]
     },
     "execution_count": 43,
     "metadata": {},
     "output_type": "execute_result"
    }
   ],
   "source": [
    "sort_left.head()"
   ]
  },
  {
   "cell_type": "code",
   "execution_count": 44,
   "id": "62eb5d99-5cbc-4e26-a887-4827633b3f8a",
   "metadata": {},
   "outputs": [
    {
     "data": {
      "text/plain": [
       "0    10155\n",
       "1    10254\n",
       "2    10338\n",
       "3    10519\n",
       "4    11046\n",
       "Name: right_list, dtype: int64"
      ]
     },
     "execution_count": 44,
     "metadata": {},
     "output_type": "execute_result"
    }
   ],
   "source": [
    "sort_right.head()"
   ]
  },
  {
   "cell_type": "code",
   "execution_count": 71,
   "id": "8f99d1d7-982a-48b8-b6ac-2cb3a9a35ffc",
   "metadata": {},
   "outputs": [],
   "source": [
    "# sorting no longer matters for part 2\n",
    "# count column looks at each entry in left_list, and finds how many matches are in right_list, defaulting to 0 if none are found\n",
    "df[\"count\"] = df['left_list'].map(df['right_list'].value_counts()).fillna(0)"
   ]
  },
  {
   "cell_type": "code",
   "execution_count": 72,
   "id": "d7eaf525-9076-4204-bc1c-7ebe766a446b",
   "metadata": {},
   "outputs": [
    {
     "data": {
      "text/plain": [
       "23741109.0"
      ]
     },
     "execution_count": 72,
     "metadata": {},
     "output_type": "execute_result"
    }
   ],
   "source": [
    "# answer to part 2\n",
    "sum(df['left_list'] * df['count'])"
   ]
  },
  {
   "cell_type": "code",
   "execution_count": null,
   "id": "b2c8ec54-d394-476c-a316-1a006278a178",
   "metadata": {},
   "outputs": [],
   "source": []
  }
 ],
 "metadata": {
  "kernelspec": {
   "display_name": "Python 3 (ipykernel)",
   "language": "python",
   "name": "python3"
  },
  "language_info": {
   "codemirror_mode": {
    "name": "ipython",
    "version": 3
   },
   "file_extension": ".py",
   "mimetype": "text/x-python",
   "name": "python",
   "nbconvert_exporter": "python",
   "pygments_lexer": "ipython3",
   "version": "3.12.7"
  }
 },
 "nbformat": 4,
 "nbformat_minor": 5
}
